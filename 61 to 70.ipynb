{
 "cells": [
  {
   "cell_type": "markdown",
   "metadata": {},
   "source": [
    "### python 300\n",
    "\n",
    "문제 참고: https://wikidocs.net/7026"
   ]
  },
  {
   "cell_type": "markdown",
   "metadata": {},
   "source": [
    "### 61번\n",
    "\n",
    "다음 코드의 결괏값에 대해 예측하여라\n",
    "\n",
    "interest_0 = ['삼성전자', 'LG전자', 'SK Hynix']\n",
    "\n",
    "interest_1 = interest_0\n",
    "\n",
    "interest_1[0] = 'Naver'\n",
    "\n",
    "print(interest_0)"
   ]
  },
  {
   "cell_type": "markdown",
   "metadata": {},
   "source": [
    "print(interest_0)의 결과는 다음과 같을 것이다.\n",
    "\n",
    "['Naver', 'LG전자', 'SK Hynix']"
   ]
  },
  {
   "cell_type": "code",
   "execution_count": 1,
   "metadata": {},
   "outputs": [
    {
     "name": "stdout",
     "output_type": "stream",
     "text": [
      "['Naver', 'LG전자', 'SK Hynix']\n"
     ]
    }
   ],
   "source": [
    "interest_0 = ['삼성전자', 'LG전자', 'SK Hynix']\n",
    "\n",
    "interest_1 = interest_0\n",
    "\n",
    "interest_1[0] = 'Naver'\n",
    "\n",
    "print(interest_0)\n"
   ]
  },
  {
   "cell_type": "markdown",
   "metadata": {},
   "source": [
    "### 이유\n",
    "\n",
    "interest_1 = interest_0 ==> 리스트가 복사되는 것이 아닌, 새로운 이름이 하나 더 추가된 개념.\n",
    "\n",
    "즉, interest_1과 interest_0은 같은 리스트를 가리키고 있게 된다.\n",
    "\n",
    "그래서 둘 중 하나를 수정하면, 나머지 하나도 수정되기 때문에 같은 값을 출력"
   ]
  },
  {
   "cell_type": "markdown",
   "metadata": {},
   "source": [
    "### 62번\n",
    "\n",
    "다음 코드의 결괏값에 대해 예측하여라\n",
    "\n",
    "interest_0 = ['삼성전자', 'LG전자', 'SK Hynix']\n",
    "\n",
    "interest_1 = interest_0[:2]\n",
    "\n",
    "interest_1[0] = 'Naver'\n",
    "\n",
    "print(interest_0)"
   ]
  },
  {
   "cell_type": "markdown",
   "metadata": {},
   "source": [
    "print(interest_0)의 결과는 다음과 같을 것이다.\n",
    "\n",
    "['삼성전자', 'LG전자', 'SK Hynix']"
   ]
  },
  {
   "cell_type": "code",
   "execution_count": 2,
   "metadata": {},
   "outputs": [
    {
     "name": "stdout",
     "output_type": "stream",
     "text": [
      "['삼성전자', 'LG전자', 'SK Hynix']\n"
     ]
    }
   ],
   "source": [
    "interest_0 = ['삼성전자', 'LG전자', 'SK Hynix']\n",
    "\n",
    "interest_1 = interest_0[:2]\n",
    "\n",
    "interest_1[0] = 'Naver'\n",
    "\n",
    "print(interest_0)\n"
   ]
  },
  {
   "cell_type": "markdown",
   "metadata": {},
   "source": [
    "### 이유\n",
    "리스트의 슬라이싱은 리스트를 복사해서 생성하게 된다.\n",
    "\n",
    "그래서 interest_1과 interest_0은 서로 다른 리스트를 가리킴.\n",
    "\n",
    "둘 중 하나를 수정해도 다른 하나에는 영향을 끼지치 않음\n"
   ]
  },
  {
   "cell_type": "markdown",
   "metadata": {},
   "source": [
    "### 63번\n",
    "\n",
    "my_variable 이름의 비어있는 튜플을 만들라"
   ]
  },
  {
   "cell_type": "code",
   "execution_count": 8,
   "metadata": {},
   "outputs": [],
   "source": [
    "my_variable =()"
   ]
  },
  {
   "cell_type": "markdown",
   "metadata": {},
   "source": [
    "### 64번\n",
    "\n",
    "다음 코드를 실행해보고 오류가 발생하는 원인을 설명하라.\n",
    "\n",
    "t = (1, 2, 3)\n",
    "\n",
    "t[0] = 'a'\n",
    "\n",
    "Traceback (most recent call last):\n",
    "  \n",
    "  File \"<pyshell#46>\", line 1, in <module>\n",
    "\n",
    "    t[0] = 'a'\n",
    "\n",
    "TypeError: 'tuple' object does not support item assignment"
   ]
  },
  {
   "cell_type": "markdown",
   "metadata": {},
   "source": [
    "튜플은 하나의 요소의 값을 변경 할 수 없음\n",
    "\n",
    "그래서 튜플의 0번 자리의 값인 1을 'a'로 바꿀 수 없음. "
   ]
  },
  {
   "cell_type": "markdown",
   "metadata": {},
   "source": [
    "### 65번\n",
    "\n",
    "숫자 1 이 저장된 튜플을 생성하라."
   ]
  },
  {
   "cell_type": "code",
   "execution_count": 10,
   "metadata": {},
   "outputs": [
    {
     "data": {
      "text/plain": [
       "tuple"
      ]
     },
     "execution_count": 10,
     "metadata": {},
     "output_type": "execute_result"
    }
   ],
   "source": [
    "my_tuple =(1,)\n",
    "\n",
    "type(my_tuple)"
   ]
  },
  {
   "cell_type": "markdown",
   "metadata": {},
   "source": [
    "tuple 안에 하나의 요소만 집어넣을 경우\n",
    "\n",
    "my_tuple = (1)을 하고 type(my_tuple)을 하면 tuple이 아닌 int가 출력된다.\n",
    "\n",
    "하나의 요소만 집어넣을 경우, my_tuple=(1, ) 이러한 형식을 갖춰야 tuple로 읽힘"
   ]
  },
  {
   "cell_type": "markdown",
   "metadata": {},
   "source": [
    "### 66번\n",
    "\n",
    "아래와 같이 t에는 1, 2, 3, 4 데이터가 바인딩되어 있다. t가 바인딩하는 데이터 타입은 무엇인가?\n",
    "\n",
    "t = 1, 2, 3, 4"
   ]
  },
  {
   "cell_type": "code",
   "execution_count": 11,
   "metadata": {},
   "outputs": [
    {
     "data": {
      "text/plain": [
       "tuple"
      ]
     },
     "execution_count": 11,
     "metadata": {},
     "output_type": "execute_result"
    }
   ],
   "source": [
    "t = 1, 2, 3, 4\n",
    "\n",
    "type(t)"
   ]
  },
  {
   "cell_type": "markdown",
   "metadata": {},
   "source": [
    "확인해본 결과 tuple이 할당된다."
   ]
  },
  {
   "cell_type": "markdown",
   "metadata": {},
   "source": [
    "### 67번\n",
    "\n",
    "변수 t에는 아래와 같은 값이 저장되어 있다. 변수 t가 ('A', 'b', 'c') 튜플을 가리키도록 수정 하라.\n",
    "\n",
    "t = ('a', 'b', 'c')"
   ]
  },
  {
   "cell_type": "code",
   "execution_count": 12,
   "metadata": {},
   "outputs": [
    {
     "name": "stdout",
     "output_type": "stream",
     "text": [
      "('A', 'b', 'c')\n"
     ]
    }
   ],
   "source": [
    "t = ('a', 'b', 'c')\n",
    "\n",
    "T =('A', 'b', 'c')\n",
    "\n",
    "t = T\n",
    "\n",
    "print(t)"
   ]
  },
  {
   "cell_type": "code",
   "execution_count": 14,
   "metadata": {},
   "outputs": [
    {
     "name": "stdout",
     "output_type": "stream",
     "text": [
      "('A', 'b', 'c')\n"
     ]
    }
   ],
   "source": [
    "t = ('a', 'b', 'c')\n",
    "\n",
    "t = (t[0].upper(), t[1], t[2])\n",
    "\n",
    "print(t)"
   ]
  },
  {
   "cell_type": "markdown",
   "metadata": {},
   "source": [
    "### 68번\n",
    "다음 튜플을 리스트로 변환하라.\n",
    "\n",
    "interest = ('삼성전자', 'LG전자', 'SK Hynix')"
   ]
  },
  {
   "cell_type": "code",
   "execution_count": 18,
   "metadata": {},
   "outputs": [
    {
     "name": "stdout",
     "output_type": "stream",
     "text": [
      "<class 'tuple'>\n",
      "<class 'list'>\n"
     ]
    }
   ],
   "source": [
    "interest =  ('삼성전자', 'LG전자', 'SK Hynix')\n",
    "print(type(interest))\n",
    "interest = list(interest)\n",
    "print(type(interest))"
   ]
  },
  {
   "cell_type": "markdown",
   "metadata": {},
   "source": [
    "### 69번\n",
    "\n",
    "다음 리스트를 튜플로 변경하라.\n",
    "\n",
    "interest = ['삼성전자', 'LG전자', 'SK Hynix']"
   ]
  },
  {
   "cell_type": "code",
   "execution_count": 20,
   "metadata": {},
   "outputs": [
    {
     "name": "stdout",
     "output_type": "stream",
     "text": [
      "<class 'list'>\n",
      "<class 'tuple'>\n"
     ]
    }
   ],
   "source": [
    "interest = ['삼성전자', 'LG전자', 'SK Hynix']\n",
    "print(type(interest))\n",
    "interest = tuple(interest)\n",
    "print(type(interest))"
   ]
  },
  {
   "cell_type": "markdown",
   "metadata": {},
   "source": [
    "### 70번\n",
    "\n",
    "아래 코드의 실행 결과를 예측하라\n",
    "\n",
    "my_tuple = (1, 2, 3)\n",
    "\n",
    "a, b, c = my_tuple\n",
    "\n",
    "print(a + b + c)"
   ]
  },
  {
   "cell_type": "code",
   "execution_count": 23,
   "metadata": {},
   "outputs": [
    {
     "name": "stdout",
     "output_type": "stream",
     "text": [
      "1 2 3\n",
      "6\n"
     ]
    }
   ],
   "source": [
    "my_tuple = (1, 2, 3)\n",
    "\n",
    "a, b, c = my_tuple\n",
    "\n",
    "print(a , b , c)\n",
    "print(a+b+c)"
   ]
  },
  {
   "cell_type": "markdown",
   "metadata": {},
   "source": [
    "my_tuple = (1, 2, 3)\n",
    "\n",
    "a, b, c = my_tuple\n",
    "\n",
    "두번째 줄 코드는 언패킹 코드라고 한다.\n",
    "\n",
    "첨들어보는데\n",
    "\n",
    "a = my_tuple[0]\n",
    "\n",
    "b = my_tuple[1]\n",
    "\n",
    "c = my_tuple[2]\n",
    "\n",
    "이를 간단하게 처리하는 코드라고 한다. \n",
    "\n",
    "주의해야할 점은 오른쪽 데이터 수와 왼쪽 변수의 수가 일치해야한다는 점."
   ]
  }
 ],
 "metadata": {
  "kernelspec": {
   "display_name": "Python 3",
   "language": "python",
   "name": "python3"
  },
  "language_info": {
   "codemirror_mode": {
    "name": "ipython",
    "version": 3
   },
   "file_extension": ".py",
   "mimetype": "text/x-python",
   "name": "python",
   "nbconvert_exporter": "python",
   "pygments_lexer": "ipython3",
   "version": "3.7.4"
  }
 },
 "nbformat": 4,
 "nbformat_minor": 2
}
