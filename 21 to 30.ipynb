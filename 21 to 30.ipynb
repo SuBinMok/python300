{
 "cells": [
  {
   "cell_type": "markdown",
   "metadata": {},
   "source": [
    "초보자를 위한 파이썬 300제\n",
    "\n",
    "문제 참고: https://wikidocs.net/7022"
   ]
  },
  {
   "cell_type": "markdown",
   "metadata": {},
   "source": [
    "### 21번\n",
    "\n",
    "letters가 바인딩하는 문자열에서 첫번째와 세번째 문자를 출력하라.\n",
    "\n",
    ">> lang = 'python'\n",
    "\n",
    "실행 예\n",
    "p t"
   ]
  },
  {
   "cell_type": "code",
   "execution_count": 4,
   "metadata": {},
   "outputs": [
    {
     "name": "stdout",
     "output_type": "stream",
     "text": [
      "p t\n"
     ]
    }
   ],
   "source": [
    "lang = 'python'\n",
    "print(lang[0],lang[2])"
   ]
  },
  {
   "cell_type": "markdown",
   "metadata": {},
   "source": [
    "### 22번\n",
    "\n",
    "자동차 번호가 다음과 같을 때 뒤에 4자리만 출력하라.\n",
    "\n",
    ">> license_plate = \"24가 2210\"\n",
    "\n",
    "\n",
    "실행 예: 2210"
   ]
  },
  {
   "cell_type": "code",
   "execution_count": 6,
   "metadata": {},
   "outputs": [
    {
     "name": "stdout",
     "output_type": "stream",
     "text": [
      "2210\n"
     ]
    }
   ],
   "source": [
    "license_plate = \"24가 2210\"\n",
    "\n",
    "print(license_plate[4:])"
   ]
  },
  {
   "cell_type": "markdown",
   "metadata": {},
   "source": [
    "### 23번\n",
    "\n",
    "아래의 문자열에서 '홀' 만 출력하라.\n",
    "\n",
    ">> string = \"홀짝홀짝홀짝\"\n",
    "실행 예:\n",
    "홀홀홀"
   ]
  },
  {
   "cell_type": "code",
   "execution_count": 19,
   "metadata": {},
   "outputs": [
    {
     "name": "stdout",
     "output_type": "stream",
     "text": [
      "홀홀홀"
     ]
    }
   ],
   "source": [
    "strint = \"홀짝홀짝홀짝\"\n",
    "for i in range(0, len(strint)):\n",
    "    if strint[i] == \"홀\":\n",
    "        print(\"홀\", end='')\n",
    "        "
   ]
  },
  {
   "cell_type": "markdown",
   "metadata": {},
   "source": [
    "### 24번\n",
    "\n",
    "문자열을 거꾸로 뒤집어 출력하라.\n",
    "\n",
    ">> string = \"PYTHON\"\n",
    "실행 예:\n",
    "NOHTYP"
   ]
  },
  {
   "cell_type": "code",
   "execution_count": 20,
   "metadata": {},
   "outputs": [
    {
     "name": "stdout",
     "output_type": "stream",
     "text": [
      "nohtyp\n"
     ]
    }
   ],
   "source": [
    "string = \"python\"\n",
    "print(string[::-1])"
   ]
  },
  {
   "cell_type": "markdown",
   "metadata": {},
   "source": [
    "### 25번\n",
    "아래의 전화번호에서 하이푼 ('-')을 제거하고 출력하라.\n",
    "\n",
    "\n",
    ">> phone_number = \"010-1111-2222\"\n",
    "실행 예\n",
    "010 1111 2222"
   ]
  },
  {
   "cell_type": "code",
   "execution_count": 38,
   "metadata": {},
   "outputs": [
    {
     "data": {
      "text/plain": [
       "'010 1111 2222'"
      ]
     },
     "execution_count": 38,
     "metadata": {},
     "output_type": "execute_result"
    }
   ],
   "source": [
    "phone_number = \"010-1111-2222\"\n",
    "\n",
    "phone_number.replace(\"-\", \" \")"
   ]
  },
  {
   "cell_type": "markdown",
   "metadata": {},
   "source": [
    "### 26번\n",
    "\n",
    "25번 문제의 전화번호를 아래와 같이 모두 붙여 출력하라\n",
    "\n",
    "실행 예\n",
    "01011112222"
   ]
  },
  {
   "cell_type": "code",
   "execution_count": 40,
   "metadata": {},
   "outputs": [
    {
     "data": {
      "text/plain": [
       "'01011112222'"
      ]
     },
     "execution_count": 40,
     "metadata": {},
     "output_type": "execute_result"
    }
   ],
   "source": [
    "phone_num = '010 1111 2222'\n",
    "phone_num.replace(\" \", \"\")"
   ]
  },
  {
   "cell_type": "markdown",
   "metadata": {},
   "source": [
    "### 27번\n",
    "url 에 저장된 웹 페이지 주소에서 도메인을 출력하라.\n",
    "\n",
    ">> url = \"http://sharebook.kr\"\n",
    "\n",
    "실행 예:\n",
    "kr"
   ]
  },
  {
   "cell_type": "code",
   "execution_count": 41,
   "metadata": {},
   "outputs": [
    {
     "name": "stdout",
     "output_type": "stream",
     "text": [
      "kr\n"
     ]
    }
   ],
   "source": [
    "url = \"http://sharebook.kr\"\n",
    "\n",
    "print(url[len(url)-2:])"
   ]
  },
  {
   "cell_type": "markdown",
   "metadata": {},
   "source": [
    "### 28번\n",
    "\n",
    "아래 코드의 실행 결과를 예상하라\n",
    "\n",
    ">> lang = 'python'\n",
    "\n",
    ">> lang[0] = 'P'\n",
    "\n",
    ">> print(lang)"
   ]
  },
  {
   "cell_type": "markdown",
   "metadata": {},
   "source": [
    "str형은 저렇게 글자를 대체할 수 없음,\n",
    "\n",
    "위의 예제를 보면 함수명.replace()를 사용해 글자를 바꿈, \n",
    "\n",
    "아래는 실행시 오류"
   ]
  },
  {
   "cell_type": "code",
   "execution_count": 43,
   "metadata": {},
   "outputs": [
    {
     "ename": "TypeError",
     "evalue": "'str' object does not support item assignment",
     "output_type": "error",
     "traceback": [
      "\u001b[1;31m---------------------------------------------------------------------------\u001b[0m",
      "\u001b[1;31mTypeError\u001b[0m                                 Traceback (most recent call last)",
      "\u001b[1;32m<ipython-input-43-ba8eb7824ab8>\u001b[0m in \u001b[0;36m<module>\u001b[1;34m\u001b[0m\n\u001b[0;32m      1\u001b[0m \u001b[0mlang\u001b[0m \u001b[1;33m=\u001b[0m \u001b[1;34m'python'\u001b[0m\u001b[1;33m\u001b[0m\u001b[1;33m\u001b[0m\u001b[0m\n\u001b[1;32m----> 2\u001b[1;33m \u001b[0mlang\u001b[0m\u001b[1;33m[\u001b[0m\u001b[1;36m0\u001b[0m\u001b[1;33m]\u001b[0m \u001b[1;33m=\u001b[0m \u001b[1;34m'P'\u001b[0m\u001b[1;33m\u001b[0m\u001b[1;33m\u001b[0m\u001b[0m\n\u001b[0m\u001b[0;32m      3\u001b[0m \u001b[0mprint\u001b[0m\u001b[1;33m(\u001b[0m\u001b[0mlang\u001b[0m\u001b[1;33m)\u001b[0m\u001b[1;33m\u001b[0m\u001b[1;33m\u001b[0m\u001b[0m\n",
      "\u001b[1;31mTypeError\u001b[0m: 'str' object does not support item assignment"
     ]
    }
   ],
   "source": [
    "lang = 'python'\n",
    "lang[0] = 'P'\n",
    "print(lang)"
   ]
  },
  {
   "cell_type": "markdown",
   "metadata": {},
   "source": [
    "### 29번\n",
    "\n",
    "아래 문자열에서 소문자 'a'를 대문자 'A'로 변경하라.\n",
    "\n",
    ">> string = 'abcdfe2a354a32a'\n",
    "\n",
    "실행 예:\n",
    "Abcdfe2A354A32A"
   ]
  },
  {
   "cell_type": "code",
   "execution_count": 45,
   "metadata": {},
   "outputs": [
    {
     "name": "stdout",
     "output_type": "stream",
     "text": [
      "Abcdfe2A354A32A\n"
     ]
    }
   ],
   "source": [
    "string = 'abcdfe2a354a32a'\n",
    "string = string.replace('a', 'A')\n",
    "print(string)"
   ]
  },
  {
   "cell_type": "markdown",
   "metadata": {},
   "source": [
    "### 30번\n",
    "\n",
    "아래 코드의 실행 결과를 예측하라.\n",
    "\n",
    ">> string = 'abcd'\n",
    "\n",
    ">> string.replace('b', 'B')\n",
    "\n",
    ">> print(string)"
   ]
  },
  {
   "cell_type": "markdown",
   "metadata": {},
   "source": [
    "'abcd'로 출력됨\n",
    "\n",
    "string = string.replace('b','B')를 해줘야 \n",
    "\n",
    "원하는 것처럼 'aBcd'로 출력됨\n",
    "\n",
    "아래는 실행 예시임."
   ]
  },
  {
   "cell_type": "code",
   "execution_count": 46,
   "metadata": {},
   "outputs": [
    {
     "name": "stdout",
     "output_type": "stream",
     "text": [
      "abcd\n"
     ]
    }
   ],
   "source": [
    "string = 'abcd'\n",
    "string.replace('b', 'B')\n",
    "print(string)"
   ]
  },
  {
   "cell_type": "code",
   "execution_count": 47,
   "metadata": {
    "scrolled": true
   },
   "outputs": [
    {
     "name": "stdout",
     "output_type": "stream",
     "text": [
      "aBcd\n"
     ]
    }
   ],
   "source": [
    "string = 'abcd'\n",
    "string = string.replace('b', 'B')\n",
    "print(string)"
   ]
  }
 ],
 "metadata": {
  "kernelspec": {
   "display_name": "Python 3",
   "language": "python",
   "name": "python3"
  },
  "language_info": {
   "codemirror_mode": {
    "name": "ipython",
    "version": 3
   },
   "file_extension": ".py",
   "mimetype": "text/x-python",
   "name": "python",
   "nbconvert_exporter": "python",
   "pygments_lexer": "ipython3",
   "version": "3.7.4"
  }
 },
 "nbformat": 4,
 "nbformat_minor": 2
}
